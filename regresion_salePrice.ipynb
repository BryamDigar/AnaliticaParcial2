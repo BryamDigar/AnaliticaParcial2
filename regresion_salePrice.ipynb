{
 "cells": [
  {
   "cell_type": "markdown",
   "id": "61685c05385ad00",
   "metadata": {},
   "source": [
    "# Ejercicio Regresion de SalePrice"
   ]
  },
  {
   "cell_type": "markdown",
   "id": "36818afdc6a39d17",
   "metadata": {},
   "source": [
    "## Configuración inicial del notebook"
   ]
  },
  {
   "cell_type": "markdown",
   "id": "676d4b8b74fb6045",
   "metadata": {},
   "source": [
    "### Carga las librerías necesarias"
   ]
  },
  {
   "cell_type": "code",
   "execution_count": 123,
   "id": "initial_id",
   "metadata": {
    "ExecuteTime": {
     "end_time": "2025-04-10T04:56:34.429370Z",
     "start_time": "2025-04-10T04:56:34.426469Z"
    },
    "collapsed": true
   },
   "outputs": [],
   "source": [
    "import pandas as pd"
   ]
  },
  {
   "cell_type": "markdown",
   "id": "17d565f59be76388",
   "metadata": {},
   "source": [
    "### Carga el dataset"
   ]
  },
  {
   "cell_type": "code",
   "execution_count": null,
   "id": "e0efa933",
   "metadata": {},
   "outputs": [],
   "source": [
    "house_price_sample=pd.read.csv('sample_submission.csv')"
   ]
  },
  {
   "cell_type": "code",
   "execution_count": null,
   "id": "5b51ebd5d9f99eb5",
   "metadata": {
    "ExecuteTime": {
     "end_time": "2025-04-10T04:56:34.466753Z",
     "start_time": "2025-04-10T04:56:34.448159Z"
    }
   },
   "outputs": [
    {
     "ename": "NameError",
     "evalue": "name 'pd' is not defined",
     "output_type": "error",
     "traceback": [
      "\u001b[1;31m---------------------------------------------------------------------------\u001b[0m",
      "\u001b[1;31mNameError\u001b[0m                                 Traceback (most recent call last)",
      "Cell \u001b[1;32mIn[2], line 1\u001b[0m\n\u001b[1;32m----> 1\u001b[0m house_price \u001b[38;5;241m=\u001b[39m \u001b[43mpd\u001b[49m\u001b[38;5;241m.\u001b[39mread_csv(\u001b[38;5;124m'\u001b[39m\u001b[38;5;124mData/train.csv\u001b[39m\u001b[38;5;124m'\u001b[39m)\n\u001b[0;32m      2\u001b[0m house_price\u001b[38;5;241m.\u001b[39mhead()\n",
      "\u001b[1;31mNameError\u001b[0m: name 'pd' is not defined"
     ]
    }
   ],
   "source": [
    "house_price = pd.read_csv('Data/train.csv')\n",
    "house_price.head()"
   ]
  },
  {
   "cell_type": "markdown",
   "id": "a17e532d38f8ae5f",
   "metadata": {},
   "source": [
    "### Analisis descriptivo\n",
    "#### TODO: Por hacer - Migue\n",
    "\n",
    "#### ¿Qué implica el análisis descriptivo?\n",
    "\n",
    "El análisis descriptivo incluye tareas como:\n",
    "\n",
    "---\n",
    "\n",
    "##### 📊 Visualizar la estructura del dataset:\n",
    "\n",
    "- Número de filas y columnas.\n",
    "- Tipos de datos (numéricos, texto, fechas, etc.).\n",
    "- Nombres de las columnas.\n",
    "\n",
    "---\n",
    "\n",
    "##### 📈 Resumir los datos estadísticamente:\n",
    "\n",
    "###### Para variables numéricas:\n",
    "- Media, mediana, moda.\n",
    "- Mínimo y máximo.\n",
    "- Rango intercuartílico.\n",
    "- Desviación estándar.\n",
    "\n",
    "###### Para variables categóricas:\n",
    "- Frecuencia de cada categoría.\n",
    "- Distribución de clases.\n",
    "\n",
    "---\n",
    "\n",
    "##### 🧼 Detección de valores faltantes o nulos:\n",
    "\n",
    "- ¿Qué columnas tienen valores faltantes?\n",
    "- ¿Qué porcentaje del dataset está incompleto?\n",
    "\n",
    "---\n",
    "\n",
    "##### 🚨 Identificación de valores atípicos (outliers)\n",
    "\n",
    "---\n",
    "\n",
    "##### 🖼️ Visualización básica (opcional pero muy útil):\n",
    "\n",
    "- Histogramas.\n",
    "- Diagramas de caja (boxplots).\n",
    "- Gráficos de barras para variables categóricas.\n",
    "\n"
   ]
  },
  {
   "cell_type": "code",
   "execution_count": 3,
   "id": "645e174640aa78e",
   "metadata": {
    "ExecuteTime": {
     "end_time": "2025-04-10T04:56:34.494608Z",
     "start_time": "2025-04-10T04:56:34.491265Z"
    }
   },
   "outputs": [
    {
     "ename": "NameError",
     "evalue": "name 'house_price' is not defined",
     "output_type": "error",
     "traceback": [
      "\u001b[1;31m---------------------------------------------------------------------------\u001b[0m",
      "\u001b[1;31mNameError\u001b[0m                                 Traceback (most recent call last)",
      "Cell \u001b[1;32mIn[3], line 1\u001b[0m\n\u001b[1;32m----> 1\u001b[0m \u001b[43mhouse_price\u001b[49m\u001b[38;5;241m.\u001b[39mshape\n",
      "\u001b[1;31mNameError\u001b[0m: name 'house_price' is not defined"
     ]
    }
   ],
   "source": [
    "house_price.shape"
   ]
  },
  {
   "cell_type": "code",
   "execution_count": 4,
   "id": "4a748975",
   "metadata": {},
   "outputs": [
    {
     "ename": "NameError",
     "evalue": "name 'house_price' is not defined",
     "output_type": "error",
     "traceback": [
      "\u001b[1;31m---------------------------------------------------------------------------\u001b[0m",
      "\u001b[1;31mNameError\u001b[0m                                 Traceback (most recent call last)",
      "Cell \u001b[1;32mIn[4], line 1\u001b[0m\n\u001b[1;32m----> 1\u001b[0m \u001b[43mhouse_price\u001b[49m\u001b[38;5;241m.\u001b[39mcolumns\n",
      "\u001b[1;31mNameError\u001b[0m: name 'house_price' is not defined"
     ]
    }
   ],
   "source": [
    "house_price.columns"
   ]
  },
  {
   "cell_type": "code",
   "execution_count": null,
   "id": "1f517221",
   "metadata": {},
   "outputs": [],
   "source": [
    "house_price.dtypes"
   ]
  },
  {
   "cell_type": "code",
   "execution_count": 5,
   "id": "840e2d46",
   "metadata": {},
   "outputs": [
    {
     "ename": "NameError",
     "evalue": "name 'house_price' is not defined",
     "output_type": "error",
     "traceback": [
      "\u001b[1;31m---------------------------------------------------------------------------\u001b[0m",
      "\u001b[1;31mNameError\u001b[0m                                 Traceback (most recent call last)",
      "Cell \u001b[1;32mIn[5], line 1\u001b[0m\n\u001b[1;32m----> 1\u001b[0m \u001b[43mhouse_price\u001b[49m\u001b[38;5;241m.\u001b[39minfo()\n",
      "\u001b[1;31mNameError\u001b[0m: name 'house_price' is not defined"
     ]
    }
   ],
   "source": [
    "house_price.info()"
   ]
  },
  {
   "cell_type": "code",
   "execution_count": null,
   "id": "f81a59a8",
   "metadata": {},
   "outputs": [],
   "source": [
    "house_price.describe()"
   ]
  },
  {
   "cell_type": "code",
   "execution_count": null,
   "id": "ce068efc",
   "metadata": {},
   "outputs": [],
   "source": [
    "house_price.mean(numeric_only=True)"
   ]
  },
  {
   "cell_type": "code",
   "execution_count": null,
   "id": "af36d93d",
   "metadata": {},
   "outputs": [],
   "source": [
    "house_price.median(numeric_only=True)"
   ]
  },
  {
   "cell_type": "code",
   "execution_count": null,
   "id": "aed048c5",
   "metadata": {},
   "outputs": [],
   "source": [
    "twenty_fifth = house_price_sample[\"SalePrice\"].quantile(0.25)\n",
    "median = house_price_sample[\"SalePrice\"].median()\n",
    "seventy_fifth = house_price_sample[\"SalePrice\"].quantile(0.75)\n",
    "maximum = house_price_sample[\"SalePrice\"].max()"
   ]
  },
  {
   "cell_type": "code",
   "execution_count": null,
   "id": "0df03e39",
   "metadata": {},
   "outputs": [],
   "source": [
    "iqr=seventy_fifth-twenty_fifth\n",
    "upper = seventy_fifth + (1.5 * iqr)\n",
    "lower = twenty_fifth - (1.5 * iqr)"
   ]
  },
  {
   "cell_type": "code",
   "execution_count": null,
   "id": "03d2327e",
   "metadata": {},
   "outputs": [],
   "source": [
    "house_price_sample = house_price_sample[(house_price_sample[\"SalePrice\"] < upper) & (house_price_sample[\"SalePrice\"] > lower)]\n",
    "print(upper, lower)"
   ]
  },
  {
   "cell_type": "markdown",
   "id": "f26c524145a604c7",
   "metadata": {},
   "source": [
    "## Encontrar los valores faltantes\n",
    "\n",
    "Debido a que son un total de 81 columnas, vamos a filtrar las columnas en las que hay valores faltantes"
   ]
  },
  {
   "cell_type": "code",
   "execution_count": 125,
   "id": "216864abb57b43b3",
   "metadata": {
    "ExecuteTime": {
     "end_time": "2025-04-10T04:56:34.530812Z",
     "start_time": "2025-04-10T04:56:34.521287Z"
    }
   },
   "outputs": [
    {
     "data": {
      "text/plain": [
       "LotFrontage      259\n",
       "Alley           1369\n",
       "MasVnrType       872\n",
       "MasVnrArea         8\n",
       "BsmtQual          37\n",
       "BsmtCond          37\n",
       "BsmtExposure      38\n",
       "BsmtFinType1      37\n",
       "BsmtFinType2      38\n",
       "Electrical         1\n",
       "FireplaceQu      690\n",
       "GarageType        81\n",
       "GarageYrBlt       81\n",
       "GarageFinish      81\n",
       "GarageQual        81\n",
       "GarageCond        81\n",
       "PoolQC          1453\n",
       "Fence           1179\n",
       "MiscFeature     1406\n",
       "dtype: int64"
      ]
     },
     "execution_count": 125,
     "metadata": {},
     "output_type": "execute_result"
    }
   ],
   "source": [
    "columns_with_missing = house_price.isna().sum()[house_price.isna().sum() > 0]\n",
    "columns_with_missing"
   ]
  },
  {
   "cell_type": "markdown",
   "id": "d4149725bf00a271",
   "metadata": {},
   "source": [
    "### Borrar columnas con muchos valores faltantes\n",
    "\n",
    "Esto se puede hacer de varias maneras, pero en este caso vamos a eliminar las columnas que tienen más del 80% de valores faltantes"
   ]
  },
  {
   "cell_type": "code",
   "execution_count": 126,
   "id": "76760355498d886b",
   "metadata": {
    "ExecuteTime": {
     "end_time": "2025-04-10T04:56:34.649123Z",
     "start_time": "2025-04-10T04:56:34.643710Z"
    }
   },
   "outputs": [
    {
     "name": "stdout",
     "output_type": "stream",
     "text": [
      "Index(['Alley', 'PoolQC', 'Fence', 'MiscFeature'], dtype='object')\n"
     ]
    }
   ],
   "source": [
    "threshold_colum = len(house_price) * 0.8\n",
    "cols_to_drop = house_price.columns[house_price.isna().sum() > threshold_colum]\n",
    "print(cols_to_drop)"
   ]
  },
  {
   "cell_type": "code",
   "execution_count": 127,
   "id": "6565265958ec0d49",
   "metadata": {
    "ExecuteTime": {
     "end_time": "2025-04-10T04:56:34.694403Z",
     "start_time": "2025-04-10T04:56:34.689259Z"
    }
   },
   "outputs": [],
   "source": [
    "house_price.drop(columns=cols_to_drop, inplace=True)"
   ]
  },
  {
   "cell_type": "code",
   "execution_count": 128,
   "id": "fed3fadf2308db5",
   "metadata": {
    "ExecuteTime": {
     "end_time": "2025-04-10T04:56:34.740977Z",
     "start_time": "2025-04-10T04:56:34.731680Z"
    }
   },
   "outputs": [
    {
     "data": {
      "text/plain": [
       "LotFrontage     259\n",
       "MasVnrType      872\n",
       "MasVnrArea        8\n",
       "BsmtQual         37\n",
       "BsmtCond         37\n",
       "BsmtExposure     38\n",
       "BsmtFinType1     37\n",
       "BsmtFinType2     38\n",
       "Electrical        1\n",
       "FireplaceQu     690\n",
       "GarageType       81\n",
       "GarageYrBlt      81\n",
       "GarageFinish     81\n",
       "GarageQual       81\n",
       "GarageCond       81\n",
       "dtype: int64"
      ]
     },
     "execution_count": 128,
     "metadata": {},
     "output_type": "execute_result"
    }
   ],
   "source": [
    "missing_values_after_drop = house_price.isnull().sum()\n",
    "columns_with_missing_after_drop = missing_values_after_drop[missing_values_after_drop > 0]\n",
    "columns_with_missing_after_drop"
   ]
  },
  {
   "cell_type": "markdown",
   "id": "4d5f10d4d7b200b2",
   "metadata": {},
   "source": [
    "### Borrar filas con valores faltantes"
   ]
  },
  {
   "cell_type": "markdown",
   "id": "43b3ea922730d9db",
   "metadata": {},
   "source": [
    "## Encontrar el mejor modelo\n",
    "\n",
    "### TODO: Buscar el mejor modelo para predecir el precio de venta"
   ]
  },
  {
   "cell_type": "markdown",
   "id": "95d8b02cfea9e8d3",
   "metadata": {},
   "source": [
    "## Aplicanción del modelo\n",
    "\n",
    "### TODO: Aplicar el modelo a los datos de train (house_price)"
   ]
  }
 ],
 "metadata": {
  "kernelspec": {
   "display_name": "Python 3",
   "language": "python",
   "name": "python3"
  },
  "language_info": {
   "codemirror_mode": {
    "name": "ipython",
    "version": 3
   },
   "file_extension": ".py",
   "mimetype": "text/x-python",
   "name": "python",
   "nbconvert_exporter": "python",
   "pygments_lexer": "ipython3",
   "version": "3.11.5"
  }
 },
 "nbformat": 4,
 "nbformat_minor": 5
}

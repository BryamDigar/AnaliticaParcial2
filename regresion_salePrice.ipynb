{
 "cells": [
  {
   "metadata": {},
   "cell_type": "markdown",
   "source": "# Ejercicio Regresion de SalePrice",
   "id": "61685c05385ad00"
  },
  {
   "metadata": {},
   "cell_type": "markdown",
   "source": "## Configuración inicial del notebook",
   "id": "36818afdc6a39d17"
  },
  {
   "metadata": {},
   "cell_type": "markdown",
   "source": "### Carga las librerías necesarias",
   "id": "676d4b8b74fb6045"
  },
  {
   "cell_type": "code",
   "id": "initial_id",
   "metadata": {
    "collapsed": true,
    "ExecuteTime": {
     "end_time": "2025-04-10T04:56:34.429370Z",
     "start_time": "2025-04-10T04:56:34.426469Z"
    }
   },
   "source": "import pandas as pd",
   "outputs": [],
   "execution_count": 123
  },
  {
   "metadata": {},
   "cell_type": "markdown",
   "source": "### Carga el dataset",
   "id": "17d565f59be76388"
  },
  {
   "metadata": {
    "ExecuteTime": {
     "end_time": "2025-04-10T04:56:34.466753Z",
     "start_time": "2025-04-10T04:56:34.448159Z"
    }
   },
   "cell_type": "code",
   "source": [
    "house_price = pd.read_csv('Data/train.csv')\n",
    "house_price.head()"
   ],
   "id": "5b51ebd5d9f99eb5",
   "outputs": [
    {
     "data": {
      "text/plain": [
       "   Id  MSSubClass MSZoning  LotFrontage  LotArea Street Alley LotShape  \\\n",
       "0   1          60       RL         65.0     8450   Pave   NaN      Reg   \n",
       "1   2          20       RL         80.0     9600   Pave   NaN      Reg   \n",
       "2   3          60       RL         68.0    11250   Pave   NaN      IR1   \n",
       "3   4          70       RL         60.0     9550   Pave   NaN      IR1   \n",
       "4   5          60       RL         84.0    14260   Pave   NaN      IR1   \n",
       "\n",
       "  LandContour Utilities  ... PoolArea PoolQC Fence MiscFeature MiscVal MoSold  \\\n",
       "0         Lvl    AllPub  ...        0    NaN   NaN         NaN       0      2   \n",
       "1         Lvl    AllPub  ...        0    NaN   NaN         NaN       0      5   \n",
       "2         Lvl    AllPub  ...        0    NaN   NaN         NaN       0      9   \n",
       "3         Lvl    AllPub  ...        0    NaN   NaN         NaN       0      2   \n",
       "4         Lvl    AllPub  ...        0    NaN   NaN         NaN       0     12   \n",
       "\n",
       "  YrSold  SaleType  SaleCondition  SalePrice  \n",
       "0   2008        WD         Normal     208500  \n",
       "1   2007        WD         Normal     181500  \n",
       "2   2008        WD         Normal     223500  \n",
       "3   2006        WD        Abnorml     140000  \n",
       "4   2008        WD         Normal     250000  \n",
       "\n",
       "[5 rows x 81 columns]"
      ],
      "text/html": [
       "<div>\n",
       "<style scoped>\n",
       "    .dataframe tbody tr th:only-of-type {\n",
       "        vertical-align: middle;\n",
       "    }\n",
       "\n",
       "    .dataframe tbody tr th {\n",
       "        vertical-align: top;\n",
       "    }\n",
       "\n",
       "    .dataframe thead th {\n",
       "        text-align: right;\n",
       "    }\n",
       "</style>\n",
       "<table border=\"1\" class=\"dataframe\">\n",
       "  <thead>\n",
       "    <tr style=\"text-align: right;\">\n",
       "      <th></th>\n",
       "      <th>Id</th>\n",
       "      <th>MSSubClass</th>\n",
       "      <th>MSZoning</th>\n",
       "      <th>LotFrontage</th>\n",
       "      <th>LotArea</th>\n",
       "      <th>Street</th>\n",
       "      <th>Alley</th>\n",
       "      <th>LotShape</th>\n",
       "      <th>LandContour</th>\n",
       "      <th>Utilities</th>\n",
       "      <th>...</th>\n",
       "      <th>PoolArea</th>\n",
       "      <th>PoolQC</th>\n",
       "      <th>Fence</th>\n",
       "      <th>MiscFeature</th>\n",
       "      <th>MiscVal</th>\n",
       "      <th>MoSold</th>\n",
       "      <th>YrSold</th>\n",
       "      <th>SaleType</th>\n",
       "      <th>SaleCondition</th>\n",
       "      <th>SalePrice</th>\n",
       "    </tr>\n",
       "  </thead>\n",
       "  <tbody>\n",
       "    <tr>\n",
       "      <th>0</th>\n",
       "      <td>1</td>\n",
       "      <td>60</td>\n",
       "      <td>RL</td>\n",
       "      <td>65.0</td>\n",
       "      <td>8450</td>\n",
       "      <td>Pave</td>\n",
       "      <td>NaN</td>\n",
       "      <td>Reg</td>\n",
       "      <td>Lvl</td>\n",
       "      <td>AllPub</td>\n",
       "      <td>...</td>\n",
       "      <td>0</td>\n",
       "      <td>NaN</td>\n",
       "      <td>NaN</td>\n",
       "      <td>NaN</td>\n",
       "      <td>0</td>\n",
       "      <td>2</td>\n",
       "      <td>2008</td>\n",
       "      <td>WD</td>\n",
       "      <td>Normal</td>\n",
       "      <td>208500</td>\n",
       "    </tr>\n",
       "    <tr>\n",
       "      <th>1</th>\n",
       "      <td>2</td>\n",
       "      <td>20</td>\n",
       "      <td>RL</td>\n",
       "      <td>80.0</td>\n",
       "      <td>9600</td>\n",
       "      <td>Pave</td>\n",
       "      <td>NaN</td>\n",
       "      <td>Reg</td>\n",
       "      <td>Lvl</td>\n",
       "      <td>AllPub</td>\n",
       "      <td>...</td>\n",
       "      <td>0</td>\n",
       "      <td>NaN</td>\n",
       "      <td>NaN</td>\n",
       "      <td>NaN</td>\n",
       "      <td>0</td>\n",
       "      <td>5</td>\n",
       "      <td>2007</td>\n",
       "      <td>WD</td>\n",
       "      <td>Normal</td>\n",
       "      <td>181500</td>\n",
       "    </tr>\n",
       "    <tr>\n",
       "      <th>2</th>\n",
       "      <td>3</td>\n",
       "      <td>60</td>\n",
       "      <td>RL</td>\n",
       "      <td>68.0</td>\n",
       "      <td>11250</td>\n",
       "      <td>Pave</td>\n",
       "      <td>NaN</td>\n",
       "      <td>IR1</td>\n",
       "      <td>Lvl</td>\n",
       "      <td>AllPub</td>\n",
       "      <td>...</td>\n",
       "      <td>0</td>\n",
       "      <td>NaN</td>\n",
       "      <td>NaN</td>\n",
       "      <td>NaN</td>\n",
       "      <td>0</td>\n",
       "      <td>9</td>\n",
       "      <td>2008</td>\n",
       "      <td>WD</td>\n",
       "      <td>Normal</td>\n",
       "      <td>223500</td>\n",
       "    </tr>\n",
       "    <tr>\n",
       "      <th>3</th>\n",
       "      <td>4</td>\n",
       "      <td>70</td>\n",
       "      <td>RL</td>\n",
       "      <td>60.0</td>\n",
       "      <td>9550</td>\n",
       "      <td>Pave</td>\n",
       "      <td>NaN</td>\n",
       "      <td>IR1</td>\n",
       "      <td>Lvl</td>\n",
       "      <td>AllPub</td>\n",
       "      <td>...</td>\n",
       "      <td>0</td>\n",
       "      <td>NaN</td>\n",
       "      <td>NaN</td>\n",
       "      <td>NaN</td>\n",
       "      <td>0</td>\n",
       "      <td>2</td>\n",
       "      <td>2006</td>\n",
       "      <td>WD</td>\n",
       "      <td>Abnorml</td>\n",
       "      <td>140000</td>\n",
       "    </tr>\n",
       "    <tr>\n",
       "      <th>4</th>\n",
       "      <td>5</td>\n",
       "      <td>60</td>\n",
       "      <td>RL</td>\n",
       "      <td>84.0</td>\n",
       "      <td>14260</td>\n",
       "      <td>Pave</td>\n",
       "      <td>NaN</td>\n",
       "      <td>IR1</td>\n",
       "      <td>Lvl</td>\n",
       "      <td>AllPub</td>\n",
       "      <td>...</td>\n",
       "      <td>0</td>\n",
       "      <td>NaN</td>\n",
       "      <td>NaN</td>\n",
       "      <td>NaN</td>\n",
       "      <td>0</td>\n",
       "      <td>12</td>\n",
       "      <td>2008</td>\n",
       "      <td>WD</td>\n",
       "      <td>Normal</td>\n",
       "      <td>250000</td>\n",
       "    </tr>\n",
       "  </tbody>\n",
       "</table>\n",
       "<p>5 rows × 81 columns</p>\n",
       "</div>"
      ]
     },
     "execution_count": 124,
     "metadata": {},
     "output_type": "execute_result"
    }
   ],
   "execution_count": 124
  },
  {
   "metadata": {},
   "cell_type": "markdown",
   "source": [
    "### Analisis descriptivo\n",
    "#### TODO: Por hacer - Migue\n",
    "\n",
    "#### ¿Qué implica el análisis descriptivo?\n",
    "\n",
    "El análisis descriptivo incluye tareas como:\n",
    "\n",
    "---\n",
    "\n",
    "##### 📊 Visualizar la estructura del dataset:\n",
    "\n",
    "- Número de filas y columnas.\n",
    "- Tipos de datos (numéricos, texto, fechas, etc.).\n",
    "- Nombres de las columnas.\n",
    "\n",
    "---\n",
    "\n",
    "##### 📈 Resumir los datos estadísticamente:\n",
    "\n",
    "###### Para variables numéricas:\n",
    "- Media, mediana, moda.\n",
    "- Mínimo y máximo.\n",
    "- Rango intercuartílico.\n",
    "- Desviación estándar.\n",
    "\n",
    "###### Para variables categóricas:\n",
    "- Frecuencia de cada categoría.\n",
    "- Distribución de clases.\n",
    "\n",
    "---\n",
    "\n",
    "##### 🧼 Detección de valores faltantes o nulos:\n",
    "\n",
    "- ¿Qué columnas tienen valores faltantes?\n",
    "- ¿Qué porcentaje del dataset está incompleto?\n",
    "\n",
    "---\n",
    "\n",
    "##### 🚨 Identificación de valores atípicos (outliers)\n",
    "\n",
    "---\n",
    "\n",
    "##### 🖼️ Visualización básica (opcional pero muy útil):\n",
    "\n",
    "- Histogramas.\n",
    "- Diagramas de caja (boxplots).\n",
    "- Gráficos de barras para variables categóricas.\n",
    "\n"
   ],
   "id": "a17e532d38f8ae5f"
  },
  {
   "metadata": {
    "ExecuteTime": {
     "end_time": "2025-04-10T04:56:34.494608Z",
     "start_time": "2025-04-10T04:56:34.491265Z"
    }
   },
   "cell_type": "code",
   "source": "",
   "id": "645e174640aa78e",
   "outputs": [],
   "execution_count": null
  },
  {
   "metadata": {},
   "cell_type": "markdown",
   "source": [
    "## Encontrar los valores faltantes\n",
    "\n",
    "Debido a que son un total de 81 columnas, vamos a filtrar las columnas en las que hay valores faltantes"
   ],
   "id": "f26c524145a604c7"
  },
  {
   "metadata": {
    "ExecuteTime": {
     "end_time": "2025-04-10T04:56:34.530812Z",
     "start_time": "2025-04-10T04:56:34.521287Z"
    }
   },
   "cell_type": "code",
   "source": [
    "columns_with_missing = house_price.isna().sum()[house_price.isna().sum() > 0]\n",
    "columns_with_missing"
   ],
   "id": "216864abb57b43b3",
   "outputs": [
    {
     "data": {
      "text/plain": [
       "LotFrontage      259\n",
       "Alley           1369\n",
       "MasVnrType       872\n",
       "MasVnrArea         8\n",
       "BsmtQual          37\n",
       "BsmtCond          37\n",
       "BsmtExposure      38\n",
       "BsmtFinType1      37\n",
       "BsmtFinType2      38\n",
       "Electrical         1\n",
       "FireplaceQu      690\n",
       "GarageType        81\n",
       "GarageYrBlt       81\n",
       "GarageFinish      81\n",
       "GarageQual        81\n",
       "GarageCond        81\n",
       "PoolQC          1453\n",
       "Fence           1179\n",
       "MiscFeature     1406\n",
       "dtype: int64"
      ]
     },
     "execution_count": 125,
     "metadata": {},
     "output_type": "execute_result"
    }
   ],
   "execution_count": 125
  },
  {
   "metadata": {},
   "cell_type": "markdown",
   "source": [
    "### Borrar columnas con muchos valores faltantes\n",
    "\n",
    "Esto se puede hacer de varias maneras, pero en este caso vamos a eliminar las columnas que tienen más del 80% de valores faltantes"
   ],
   "id": "d4149725bf00a271"
  },
  {
   "metadata": {
    "ExecuteTime": {
     "end_time": "2025-04-10T04:56:34.649123Z",
     "start_time": "2025-04-10T04:56:34.643710Z"
    }
   },
   "cell_type": "code",
   "source": [
    "threshold_colum = len(house_price) * 0.8\n",
    "cols_to_drop = house_price.columns[house_price.isna().sum() > threshold_colum]\n",
    "print(cols_to_drop)"
   ],
   "id": "76760355498d886b",
   "outputs": [
    {
     "name": "stdout",
     "output_type": "stream",
     "text": [
      "Index(['Alley', 'PoolQC', 'Fence', 'MiscFeature'], dtype='object')\n"
     ]
    }
   ],
   "execution_count": 126
  },
  {
   "metadata": {
    "ExecuteTime": {
     "end_time": "2025-04-10T04:56:34.694403Z",
     "start_time": "2025-04-10T04:56:34.689259Z"
    }
   },
   "cell_type": "code",
   "source": "house_price.drop(columns=cols_to_drop, inplace=True)",
   "id": "6565265958ec0d49",
   "outputs": [],
   "execution_count": 127
  },
  {
   "metadata": {
    "ExecuteTime": {
     "end_time": "2025-04-10T04:56:34.740977Z",
     "start_time": "2025-04-10T04:56:34.731680Z"
    }
   },
   "cell_type": "code",
   "source": [
    "missing_values_after_drop = house_price.isnull().sum()\n",
    "columns_with_missing_after_drop = missing_values_after_drop[missing_values_after_drop > 0]\n",
    "columns_with_missing_after_drop"
   ],
   "id": "fed3fadf2308db5",
   "outputs": [
    {
     "data": {
      "text/plain": [
       "LotFrontage     259\n",
       "MasVnrType      872\n",
       "MasVnrArea        8\n",
       "BsmtQual         37\n",
       "BsmtCond         37\n",
       "BsmtExposure     38\n",
       "BsmtFinType1     37\n",
       "BsmtFinType2     38\n",
       "Electrical        1\n",
       "FireplaceQu     690\n",
       "GarageType       81\n",
       "GarageYrBlt      81\n",
       "GarageFinish     81\n",
       "GarageQual       81\n",
       "GarageCond       81\n",
       "dtype: int64"
      ]
     },
     "execution_count": 128,
     "metadata": {},
     "output_type": "execute_result"
    }
   ],
   "execution_count": 128
  },
  {
   "metadata": {},
   "cell_type": "markdown",
   "source": "### Borrar filas con valores faltantes",
   "id": "4d5f10d4d7b200b2"
  },
  {
   "metadata": {},
   "cell_type": "markdown",
   "source": [
    "## Encontrar el mejor modelo\n",
    "\n",
    "### TODO: Buscar el mejor modelo para predecir el precio de venta"
   ],
   "id": "43b3ea922730d9db"
  },
  {
   "metadata": {},
   "cell_type": "markdown",
   "source": [
    "## Aplicanción del modelo\n",
    "\n",
    "### TODO: Aplicar el modelo a los datos de train (house_price)"
   ],
   "id": "95d8b02cfea9e8d3"
  }
 ],
 "metadata": {
  "kernelspec": {
   "display_name": "Python 3",
   "language": "python",
   "name": "python3"
  },
  "language_info": {
   "codemirror_mode": {
    "name": "ipython",
    "version": 2
   },
   "file_extension": ".py",
   "mimetype": "text/x-python",
   "name": "python",
   "nbconvert_exporter": "python",
   "pygments_lexer": "ipython2",
   "version": "2.7.6"
  }
 },
 "nbformat": 4,
 "nbformat_minor": 5
}

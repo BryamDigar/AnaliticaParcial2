{
 "cells": [
  {
   "cell_type": "code",
   "execution_count": 21,
   "id": "initial_id",
   "metadata": {
    "collapsed": true,
    "ExecuteTime": {
     "end_time": "2025-04-11T00:41:15.666653700Z",
     "start_time": "2025-04-11T00:41:15.655238500Z"
    }
   },
   "outputs": [],
   "source": [
    "import pandas as pd\n",
    "import numpy as np\n",
    "import matplotlib.pyplot as plt\n",
    "import seaborn as sns\n",
    "from sklearn.model_selection import train_test_split, cross_val_score, GridSearchCV\n",
    "from sklearn.linear_model import LinearRegression, Ridge, Lasso, ElasticNet\n",
    "from sklearn.ensemble import RandomForestRegressor, GradientBoostingRegressor\n",
    "from sklearn.metrics import mean_squared_error, r2_score\n",
    "from sklearn.preprocessing import StandardScaler\n",
    "import warnings"
   ]
  },
  {
   "cell_type": "code",
   "outputs": [
    {
     "data": {
      "text/plain": "   OverallQual  GrLivArea  GarageCars  GarageArea  TotalBsmtSF  1stFlrSF  \\\n0            7       1710           2         548          856       856   \n1            6       1262           2         460         1262      1262   \n2            7       1786           2         608          920       920   \n3            7       1717           3         642          756       961   \n4            8       2198           3         836         1145      1145   \n\n   FullBath  TotRmsAbvGrd  YearBuilt  YearRemodAdd  GarageFinish_Unf  \\\n0         2             8       2003          2003             False   \n1         2             6       1976          1976             False   \n2         2             6       2001          2002             False   \n3         1             7       1915          1970              True   \n4         2             9       2000          2000             False   \n\n   KitchenQual_TA  ExterQual_TA  \n0           False         False  \n1            True          True  \n2           False         False  \n3           False          True  \n4           False         False  ",
      "text/html": "<div>\n<style scoped>\n    .dataframe tbody tr th:only-of-type {\n        vertical-align: middle;\n    }\n\n    .dataframe tbody tr th {\n        vertical-align: top;\n    }\n\n    .dataframe thead th {\n        text-align: right;\n    }\n</style>\n<table border=\"1\" class=\"dataframe\">\n  <thead>\n    <tr style=\"text-align: right;\">\n      <th></th>\n      <th>OverallQual</th>\n      <th>GrLivArea</th>\n      <th>GarageCars</th>\n      <th>GarageArea</th>\n      <th>TotalBsmtSF</th>\n      <th>1stFlrSF</th>\n      <th>FullBath</th>\n      <th>TotRmsAbvGrd</th>\n      <th>YearBuilt</th>\n      <th>YearRemodAdd</th>\n      <th>GarageFinish_Unf</th>\n      <th>KitchenQual_TA</th>\n      <th>ExterQual_TA</th>\n    </tr>\n  </thead>\n  <tbody>\n    <tr>\n      <th>0</th>\n      <td>7</td>\n      <td>1710</td>\n      <td>2</td>\n      <td>548</td>\n      <td>856</td>\n      <td>856</td>\n      <td>2</td>\n      <td>8</td>\n      <td>2003</td>\n      <td>2003</td>\n      <td>False</td>\n      <td>False</td>\n      <td>False</td>\n    </tr>\n    <tr>\n      <th>1</th>\n      <td>6</td>\n      <td>1262</td>\n      <td>2</td>\n      <td>460</td>\n      <td>1262</td>\n      <td>1262</td>\n      <td>2</td>\n      <td>6</td>\n      <td>1976</td>\n      <td>1976</td>\n      <td>False</td>\n      <td>True</td>\n      <td>True</td>\n    </tr>\n    <tr>\n      <th>2</th>\n      <td>7</td>\n      <td>1786</td>\n      <td>2</td>\n      <td>608</td>\n      <td>920</td>\n      <td>920</td>\n      <td>2</td>\n      <td>6</td>\n      <td>2001</td>\n      <td>2002</td>\n      <td>False</td>\n      <td>False</td>\n      <td>False</td>\n    </tr>\n    <tr>\n      <th>3</th>\n      <td>7</td>\n      <td>1717</td>\n      <td>3</td>\n      <td>642</td>\n      <td>756</td>\n      <td>961</td>\n      <td>1</td>\n      <td>7</td>\n      <td>1915</td>\n      <td>1970</td>\n      <td>True</td>\n      <td>False</td>\n      <td>True</td>\n    </tr>\n    <tr>\n      <th>4</th>\n      <td>8</td>\n      <td>2198</td>\n      <td>3</td>\n      <td>836</td>\n      <td>1145</td>\n      <td>1145</td>\n      <td>2</td>\n      <td>9</td>\n      <td>2000</td>\n      <td>2000</td>\n      <td>False</td>\n      <td>False</td>\n      <td>False</td>\n    </tr>\n  </tbody>\n</table>\n</div>"
     },
     "execution_count": 22,
     "metadata": {},
     "output_type": "execute_result"
    }
   ],
   "source": [
    "house_price_train_final = pd.read_csv('Data/house_price_train_final.csv')\n",
    "house_price_train_final.head()"
   ],
   "metadata": {
    "collapsed": false,
    "ExecuteTime": {
     "end_time": "2025-04-11T00:41:15.743674500Z",
     "start_time": "2025-04-11T00:41:15.671666600Z"
    }
   },
   "id": "ef6b51b56b0aed83",
   "execution_count": 22
  },
  {
   "cell_type": "code",
   "outputs": [
    {
     "ename": "KeyError",
     "evalue": "\"['SalePrice'] not found in axis\"",
     "output_type": "error",
     "traceback": [
      "\u001B[1;31m---------------------------------------------------------------------------\u001B[0m",
      "\u001B[1;31mKeyError\u001B[0m                                  Traceback (most recent call last)",
      "Cell \u001B[1;32mIn[23], line 1\u001B[0m\n\u001B[1;32m----> 1\u001B[0m X \u001B[38;5;241m=\u001B[39m \u001B[43mhouse_price_train_final\u001B[49m\u001B[38;5;241;43m.\u001B[39;49m\u001B[43mdrop\u001B[49m\u001B[43m(\u001B[49m\u001B[38;5;124;43m'\u001B[39;49m\u001B[38;5;124;43mSalePrice\u001B[39;49m\u001B[38;5;124;43m'\u001B[39;49m\u001B[43m,\u001B[49m\u001B[43m \u001B[49m\u001B[43maxis\u001B[49m\u001B[38;5;241;43m=\u001B[39;49m\u001B[38;5;241;43m1\u001B[39;49m\u001B[43m)\u001B[49m\n\u001B[0;32m      2\u001B[0m y \u001B[38;5;241m=\u001B[39m house_price_train_final[\u001B[38;5;124m'\u001B[39m\u001B[38;5;124mSalePrice\u001B[39m\u001B[38;5;124m'\u001B[39m]\n",
      "File \u001B[1;32m~\\Documents\\Trabajos U.sabana\\7sem\\Analitica\\Corte1\\ETL\\.venv\\Lib\\site-packages\\pandas\\core\\frame.py:5581\u001B[0m, in \u001B[0;36mDataFrame.drop\u001B[1;34m(self, labels, axis, index, columns, level, inplace, errors)\u001B[0m\n\u001B[0;32m   5433\u001B[0m \u001B[38;5;28;01mdef\u001B[39;00m\u001B[38;5;250m \u001B[39m\u001B[38;5;21mdrop\u001B[39m(\n\u001B[0;32m   5434\u001B[0m     \u001B[38;5;28mself\u001B[39m,\n\u001B[0;32m   5435\u001B[0m     labels: IndexLabel \u001B[38;5;241m|\u001B[39m \u001B[38;5;28;01mNone\u001B[39;00m \u001B[38;5;241m=\u001B[39m \u001B[38;5;28;01mNone\u001B[39;00m,\n\u001B[1;32m   (...)\u001B[0m\n\u001B[0;32m   5442\u001B[0m     errors: IgnoreRaise \u001B[38;5;241m=\u001B[39m \u001B[38;5;124m\"\u001B[39m\u001B[38;5;124mraise\u001B[39m\u001B[38;5;124m\"\u001B[39m,\n\u001B[0;32m   5443\u001B[0m ) \u001B[38;5;241m-\u001B[39m\u001B[38;5;241m>\u001B[39m DataFrame \u001B[38;5;241m|\u001B[39m \u001B[38;5;28;01mNone\u001B[39;00m:\n\u001B[0;32m   5444\u001B[0m \u001B[38;5;250m    \u001B[39m\u001B[38;5;124;03m\"\"\"\u001B[39;00m\n\u001B[0;32m   5445\u001B[0m \u001B[38;5;124;03m    Drop specified labels from rows or columns.\u001B[39;00m\n\u001B[0;32m   5446\u001B[0m \n\u001B[1;32m   (...)\u001B[0m\n\u001B[0;32m   5579\u001B[0m \u001B[38;5;124;03m            weight  1.0     0.8\u001B[39;00m\n\u001B[0;32m   5580\u001B[0m \u001B[38;5;124;03m    \"\"\"\u001B[39;00m\n\u001B[1;32m-> 5581\u001B[0m     \u001B[38;5;28;01mreturn\u001B[39;00m \u001B[38;5;28;43msuper\u001B[39;49m\u001B[43m(\u001B[49m\u001B[43m)\u001B[49m\u001B[38;5;241;43m.\u001B[39;49m\u001B[43mdrop\u001B[49m\u001B[43m(\u001B[49m\n\u001B[0;32m   5582\u001B[0m \u001B[43m        \u001B[49m\u001B[43mlabels\u001B[49m\u001B[38;5;241;43m=\u001B[39;49m\u001B[43mlabels\u001B[49m\u001B[43m,\u001B[49m\n\u001B[0;32m   5583\u001B[0m \u001B[43m        \u001B[49m\u001B[43maxis\u001B[49m\u001B[38;5;241;43m=\u001B[39;49m\u001B[43maxis\u001B[49m\u001B[43m,\u001B[49m\n\u001B[0;32m   5584\u001B[0m \u001B[43m        \u001B[49m\u001B[43mindex\u001B[49m\u001B[38;5;241;43m=\u001B[39;49m\u001B[43mindex\u001B[49m\u001B[43m,\u001B[49m\n\u001B[0;32m   5585\u001B[0m \u001B[43m        \u001B[49m\u001B[43mcolumns\u001B[49m\u001B[38;5;241;43m=\u001B[39;49m\u001B[43mcolumns\u001B[49m\u001B[43m,\u001B[49m\n\u001B[0;32m   5586\u001B[0m \u001B[43m        \u001B[49m\u001B[43mlevel\u001B[49m\u001B[38;5;241;43m=\u001B[39;49m\u001B[43mlevel\u001B[49m\u001B[43m,\u001B[49m\n\u001B[0;32m   5587\u001B[0m \u001B[43m        \u001B[49m\u001B[43minplace\u001B[49m\u001B[38;5;241;43m=\u001B[39;49m\u001B[43minplace\u001B[49m\u001B[43m,\u001B[49m\n\u001B[0;32m   5588\u001B[0m \u001B[43m        \u001B[49m\u001B[43merrors\u001B[49m\u001B[38;5;241;43m=\u001B[39;49m\u001B[43merrors\u001B[49m\u001B[43m,\u001B[49m\n\u001B[0;32m   5589\u001B[0m \u001B[43m    \u001B[49m\u001B[43m)\u001B[49m\n",
      "File \u001B[1;32m~\\Documents\\Trabajos U.sabana\\7sem\\Analitica\\Corte1\\ETL\\.venv\\Lib\\site-packages\\pandas\\core\\generic.py:4788\u001B[0m, in \u001B[0;36mNDFrame.drop\u001B[1;34m(self, labels, axis, index, columns, level, inplace, errors)\u001B[0m\n\u001B[0;32m   4786\u001B[0m \u001B[38;5;28;01mfor\u001B[39;00m axis, labels \u001B[38;5;129;01min\u001B[39;00m axes\u001B[38;5;241m.\u001B[39mitems():\n\u001B[0;32m   4787\u001B[0m     \u001B[38;5;28;01mif\u001B[39;00m labels \u001B[38;5;129;01mis\u001B[39;00m \u001B[38;5;129;01mnot\u001B[39;00m \u001B[38;5;28;01mNone\u001B[39;00m:\n\u001B[1;32m-> 4788\u001B[0m         obj \u001B[38;5;241m=\u001B[39m \u001B[43mobj\u001B[49m\u001B[38;5;241;43m.\u001B[39;49m\u001B[43m_drop_axis\u001B[49m\u001B[43m(\u001B[49m\u001B[43mlabels\u001B[49m\u001B[43m,\u001B[49m\u001B[43m \u001B[49m\u001B[43maxis\u001B[49m\u001B[43m,\u001B[49m\u001B[43m \u001B[49m\u001B[43mlevel\u001B[49m\u001B[38;5;241;43m=\u001B[39;49m\u001B[43mlevel\u001B[49m\u001B[43m,\u001B[49m\u001B[43m \u001B[49m\u001B[43merrors\u001B[49m\u001B[38;5;241;43m=\u001B[39;49m\u001B[43merrors\u001B[49m\u001B[43m)\u001B[49m\n\u001B[0;32m   4790\u001B[0m \u001B[38;5;28;01mif\u001B[39;00m inplace:\n\u001B[0;32m   4791\u001B[0m     \u001B[38;5;28mself\u001B[39m\u001B[38;5;241m.\u001B[39m_update_inplace(obj)\n",
      "File \u001B[1;32m~\\Documents\\Trabajos U.sabana\\7sem\\Analitica\\Corte1\\ETL\\.venv\\Lib\\site-packages\\pandas\\core\\generic.py:4830\u001B[0m, in \u001B[0;36mNDFrame._drop_axis\u001B[1;34m(self, labels, axis, level, errors, only_slice)\u001B[0m\n\u001B[0;32m   4828\u001B[0m         new_axis \u001B[38;5;241m=\u001B[39m axis\u001B[38;5;241m.\u001B[39mdrop(labels, level\u001B[38;5;241m=\u001B[39mlevel, errors\u001B[38;5;241m=\u001B[39merrors)\n\u001B[0;32m   4829\u001B[0m     \u001B[38;5;28;01melse\u001B[39;00m:\n\u001B[1;32m-> 4830\u001B[0m         new_axis \u001B[38;5;241m=\u001B[39m \u001B[43maxis\u001B[49m\u001B[38;5;241;43m.\u001B[39;49m\u001B[43mdrop\u001B[49m\u001B[43m(\u001B[49m\u001B[43mlabels\u001B[49m\u001B[43m,\u001B[49m\u001B[43m \u001B[49m\u001B[43merrors\u001B[49m\u001B[38;5;241;43m=\u001B[39;49m\u001B[43merrors\u001B[49m\u001B[43m)\u001B[49m\n\u001B[0;32m   4831\u001B[0m     indexer \u001B[38;5;241m=\u001B[39m axis\u001B[38;5;241m.\u001B[39mget_indexer(new_axis)\n\u001B[0;32m   4833\u001B[0m \u001B[38;5;66;03m# Case for non-unique axis\u001B[39;00m\n\u001B[0;32m   4834\u001B[0m \u001B[38;5;28;01melse\u001B[39;00m:\n",
      "File \u001B[1;32m~\\Documents\\Trabajos U.sabana\\7sem\\Analitica\\Corte1\\ETL\\.venv\\Lib\\site-packages\\pandas\\core\\indexes\\base.py:7070\u001B[0m, in \u001B[0;36mIndex.drop\u001B[1;34m(self, labels, errors)\u001B[0m\n\u001B[0;32m   7068\u001B[0m \u001B[38;5;28;01mif\u001B[39;00m mask\u001B[38;5;241m.\u001B[39many():\n\u001B[0;32m   7069\u001B[0m     \u001B[38;5;28;01mif\u001B[39;00m errors \u001B[38;5;241m!=\u001B[39m \u001B[38;5;124m\"\u001B[39m\u001B[38;5;124mignore\u001B[39m\u001B[38;5;124m\"\u001B[39m:\n\u001B[1;32m-> 7070\u001B[0m         \u001B[38;5;28;01mraise\u001B[39;00m \u001B[38;5;167;01mKeyError\u001B[39;00m(\u001B[38;5;124mf\u001B[39m\u001B[38;5;124m\"\u001B[39m\u001B[38;5;132;01m{\u001B[39;00mlabels[mask]\u001B[38;5;241m.\u001B[39mtolist()\u001B[38;5;132;01m}\u001B[39;00m\u001B[38;5;124m not found in axis\u001B[39m\u001B[38;5;124m\"\u001B[39m)\n\u001B[0;32m   7071\u001B[0m     indexer \u001B[38;5;241m=\u001B[39m indexer[\u001B[38;5;241m~\u001B[39mmask]\n\u001B[0;32m   7072\u001B[0m \u001B[38;5;28;01mreturn\u001B[39;00m \u001B[38;5;28mself\u001B[39m\u001B[38;5;241m.\u001B[39mdelete(indexer)\n",
      "\u001B[1;31mKeyError\u001B[0m: \"['SalePrice'] not found in axis\""
     ]
    }
   ],
   "source": [
    "X = house_price_train_final.drop('SalePrice', axis=1)\n",
    "y = house_price_train_final['SalePrice']"
   ],
   "metadata": {
    "collapsed": false,
    "ExecuteTime": {
     "end_time": "2025-04-11T00:41:15.776549Z",
     "start_time": "2025-04-11T00:41:15.686947100Z"
    }
   },
   "id": "ba57e68ec8b82d6c",
   "execution_count": 23
  },
  {
   "cell_type": "code",
   "outputs": [],
   "source": [
    "X_train, X_test, y_train, y_test = train_test_split(X, y, test_size=0.2, random_state=42)"
   ],
   "metadata": {
    "collapsed": false,
    "ExecuteTime": {
     "start_time": "2025-04-11T00:41:15.736673700Z"
    }
   },
   "id": "e93fbe76f726a060",
   "execution_count": null
  },
  {
   "cell_type": "code",
   "outputs": [],
   "source": [
    "scaler = StandardScaler()\n",
    "X_train_scaled = scaler.fit_transform(X_train)\n",
    "X_test_scaled = scaler.transform(X_test)"
   ],
   "metadata": {
    "collapsed": false,
    "ExecuteTime": {
     "start_time": "2025-04-11T00:41:15.737669Z"
    }
   },
   "id": "744304f12b0ec60b",
   "execution_count": null
  },
  {
   "cell_type": "code",
   "outputs": [],
   "source": [
    "models = {\n",
    "    'Linear Regression': LinearRegression(),\n",
    "    'Ridge Regression': Ridge(random_state=42),\n",
    "    'Lasso Regression': Lasso(random_state=42),\n",
    "    'ElasticNet': ElasticNet(random_state=42),\n",
    "    'Random Forest': RandomForestRegressor(random_state=42),\n",
    "    'Gradient Boosting': GradientBoostingRegressor(random_state=42)\n",
    "}\n",
    "results = {}\n",
    "\n"
   ],
   "metadata": {
    "collapsed": false,
    "ExecuteTime": {
     "start_time": "2025-04-11T00:41:15.739669300Z"
    }
   },
   "id": "1e56acd75e7684a5",
   "execution_count": null
  },
  {
   "cell_type": "code",
   "outputs": [],
   "source": [
    "# Evaluar cada modelo con validación cruzada\n",
    "for name, model in models.items():\n",
    "    cv_scores = cross_val_score(model, X_train_scaled, y_train, cv=5, scoring='neg_mean_squared_error')\n",
    "    rmse_scores = np.sqrt(-cv_scores)\n",
    "    results[name] = {\n",
    "        'RMSE CV': rmse_scores.mean(),\n",
    "        'RMSE Std': rmse_scores.std()\n",
    "    }\n",
    "    print(f\"{name}: RMSE = {rmse_scores.mean():.2f} (±{rmse_scores.std():.2f})\")\n"
   ],
   "metadata": {
    "collapsed": false,
    "ExecuteTime": {
     "start_time": "2025-04-11T00:41:15.740670200Z"
    }
   },
   "id": "69a93f3e961d0ec6",
   "execution_count": null
  },
  {
   "cell_type": "code",
   "outputs": [
    {
     "name": "stdout",
     "output_type": "stream",
     "text": [
      "\n",
      "El mejor modelo es: Gradient Boosting\n"
     ]
    }
   ],
   "source": [
    "\n",
    "# Encontrar el mejor modelo basado en RMSE\n",
    "best_model_name = min(results, key=lambda x: results[x]['RMSE CV'])\n",
    "print(f\"\\nEl mejor modelo es: {best_model_name}\")"
   ],
   "metadata": {
    "collapsed": false,
    "ExecuteTime": {
     "end_time": "2025-04-11T00:41:15.819169800Z",
     "start_time": "2025-04-11T00:41:15.752675Z"
    }
   },
   "id": "17b883768900f695",
   "execution_count": 24
  },
  {
   "cell_type": "code",
   "outputs": [],
   "source": [
    "\n",
    "# Optimizar hiperparámetros del mejor modelo\n",
    "if best_model_name == 'Linear Regression':\n",
    "    best_model = LinearRegression()\n",
    "    param_grid = {}\n",
    "elif best_model_name == 'Ridge Regression':\n",
    "    best_model = Ridge(random_state=42)\n",
    "    param_grid = {'alpha': [0.01, 0.1, 1.0, 10.0, 100.0]}\n",
    "elif best_model_name == 'Lasso Regression':\n",
    "    best_model = Lasso(random_state=42)\n",
    "    param_grid = {'alpha': [0.0001, 0.001, 0.01, 0.1, 1.0]}\n",
    "elif best_model_name == 'ElasticNet':\n",
    "    best_model = ElasticNet(random_state=42)\n",
    "    param_grid = {\n",
    "        'alpha': [0.001, 0.01, 0.1, 1.0],\n",
    "        'l1_ratio': [0.1, 0.3, 0.5, 0.7, 0.9]\n",
    "    }\n",
    "elif best_model_name == 'Random Forest':\n",
    "    best_model = RandomForestRegressor(random_state=42)\n",
    "    param_grid = {\n",
    "        'n_estimators': [100, 200, 300],\n",
    "        'max_depth': [None, 10, 20, 30],\n",
    "        'min_samples_split': [2, 5, 10]\n",
    "    }\n",
    "else:  # Gradient Boosting\n",
    "    best_model = GradientBoostingRegressor(random_state=42)\n",
    "    param_grid = {\n",
    "        'n_estimators': [100, 200, 300],\n",
    "        'learning_rate': [0.01, 0.05, 0.1],\n",
    "        'max_depth': [3, 5, 7]\n",
    "    }"
   ],
   "metadata": {
    "collapsed": false,
    "ExecuteTime": {
     "end_time": "2025-04-11T00:41:15.927761800Z",
     "start_time": "2025-04-11T00:41:15.786080200Z"
    }
   },
   "id": "cc8161f1ba08665c",
   "execution_count": 25
  },
  {
   "cell_type": "code",
   "outputs": [
    {
     "name": "stdout",
     "output_type": "stream",
     "text": [
      "\n",
      "Optimizando hiperparámetros para Gradient Boosting...\n",
      "Mejores parámetros: {'learning_rate': 0.01, 'max_depth': 7, 'n_estimators': 100}\n"
     ]
    }
   ],
   "source": [
    "\n",
    "# Realizar búsqueda de hiperparámetros si hay parámetros para optimizar\n",
    "if param_grid:\n",
    "    print(f\"\\nOptimizando hiperparámetros para {best_model_name}...\")\n",
    "    grid_search = GridSearchCV(best_model, param_grid, cv=5, scoring='neg_mean_squared_error', n_jobs=-1)\n",
    "    grid_search.fit(X_train_scaled, y_train)\n",
    "    best_params = grid_search.best_params_\n",
    "    print(f\"Mejores parámetros: {best_params}\")\n",
    "    final_model = grid_search.best_estimator_\n",
    "else:\n",
    "    print(f\"\\nEntrenando modelo final {best_model_name}...\")\n",
    "    best_model.fit(X_train_scaled, y_train)\n",
    "    final_model = best_model"
   ],
   "metadata": {
    "collapsed": false,
    "ExecuteTime": {
     "end_time": "2025-04-11T00:41:20.459937500Z",
     "start_time": "2025-04-11T00:41:15.932764800Z"
    }
   },
   "id": "29f08b482b7538f7",
   "execution_count": 26
  },
  {
   "cell_type": "code",
   "outputs": [
    {
     "name": "stdout",
     "output_type": "stream",
     "text": [
      "\n",
      "Resultados del modelo final (Gradient Boosting):\n",
      "RMSE: 15576.94\n",
      "R²: -0.0041\n"
     ]
    }
   ],
   "source": [
    "\n",
    "# Evaluar el modelo final\n",
    "y_pred = final_model.predict(X_test_scaled)\n",
    "rmse = np.sqrt(mean_squared_error(y_test, y_pred))\n",
    "r2 = r2_score(y_test, y_pred)\n",
    "\n",
    "print(f\"\\nResultados del modelo final ({best_model_name}):\")\n",
    "print(f\"RMSE: {rmse:.2f}\")\n",
    "print(f\"R²: {r2:.4f}\")\n"
   ],
   "metadata": {
    "collapsed": false,
    "ExecuteTime": {
     "end_time": "2025-04-11T00:41:20.471681600Z",
     "start_time": "2025-04-11T00:41:20.455277400Z"
    }
   },
   "id": "5f6a38d9c4755b77",
   "execution_count": 27
  },
  {
   "cell_type": "code",
   "outputs": [],
   "source": [
    "\n",
    "# Visualizar residuos\n",
    "residuos = y_test - y_pred\n",
    "plt.figure(figsize=(10, 6))\n",
    "plt.scatter(y_pred, residuos, alpha=0.5)\n",
    "plt.hlines(y=0, xmin=y_pred.min(), xmax=y_pred.max(), colors='r', linestyles='--')\n",
    "plt.xlabel('Predicciones')\n",
    "plt.ylabel('Residuos')\n",
    "plt.title('Residuos vs Predicciones')\n",
    "plt.savefig('residuos.png')\n",
    "plt.close()"
   ],
   "metadata": {
    "collapsed": false,
    "ExecuteTime": {
     "end_time": "2025-04-11T00:41:20.571993Z",
     "start_time": "2025-04-11T00:41:20.468683600Z"
    }
   },
   "id": "b19539f0243937dc",
   "execution_count": 28
  },
  {
   "cell_type": "code",
   "outputs": [],
   "source": [
    "plt.figure(figsize=(10, 6))\n",
    "sns.histplot(residuos, kde=True)\n",
    "plt.xlabel('Residuos')\n",
    "plt.title('Distribución de residuos')\n",
    "plt.savefig('distribucion_residuos.png')\n",
    "plt.close()"
   ],
   "metadata": {
    "collapsed": false,
    "ExecuteTime": {
     "end_time": "2025-04-11T00:41:20.697386Z",
     "start_time": "2025-04-11T00:41:20.573001600Z"
    }
   },
   "id": "7b3cccf037bc8c52",
   "execution_count": 29
  },
  {
   "cell_type": "code",
   "outputs": [
    {
     "name": "stdout",
     "output_type": "stream",
     "text": [
      "\n",
      "Características más importantes:\n",
      "  Feature  Importance\n",
      "0      Id         1.0\n"
     ]
    }
   ],
   "source": [
    "\n",
    "# Si el mejor modelo permite análisis de importancia de características\n",
    "if best_model_name in ['Random Forest', 'Gradient Boosting']:\n",
    "    # Obtener importancia de características\n",
    "    feature_importance = pd.DataFrame({\n",
    "        'Feature': X.columns,\n",
    "        'Importance': final_model.feature_importances_\n",
    "    }).sort_values('Importance', ascending=False)\n",
    "    \n",
    "    # Visualizar las 15 características más importantes\n",
    "    plt.figure(figsize=(12, 8))\n",
    "    sns.barplot(x='Importance', y='Feature', data=feature_importance.head(15))\n",
    "    plt.title('15 características más importantes')\n",
    "    plt.tight_layout()\n",
    "    plt.savefig('feature_importance.png')\n",
    "    plt.close()\n",
    "    \n",
    "    print(\"\\nCaracterísticas más importantes:\")\n",
    "    print(feature_importance.head(10))"
   ],
   "metadata": {
    "collapsed": false,
    "ExecuteTime": {
     "end_time": "2025-04-11T00:41:20.800015800Z",
     "start_time": "2025-04-11T00:41:20.699564500Z"
    }
   },
   "id": "6937ca102dbe7bab",
   "execution_count": 30
  },
  {
   "cell_type": "code",
   "outputs": [
    {
     "name": "stdout",
     "output_type": "stream",
     "text": [
      "\n",
      "Archivo de envío creado como 'submission.csv'\n"
     ]
    }
   ],
   "source": [
    "\n",
    "# Cargar datos de prueba y hacer predicciones para enviar\n",
    "try:\n",
    "    # Cargar datos de prueba\n",
    "    house_price_test = pd.read_csv('Data/test.csv')\n",
    "    \n",
    "    # Preparar los datos de prueba de la misma manera que los de entrenamiento\n",
    "    # Esto debe incluir el mismo preprocesamiento aplicado al conjunto de entrenamiento\n",
    "    # Por simplicidad, asumimos que los datos de prueba ya están procesados \n",
    "    # de la misma manera o que las columnas requeridas ya están disponibles\n",
    "    \n",
    "    # Asegurarse de que las columnas coincidan con las usadas en el entrenamiento\n",
    "    missing_cols = set(X.columns) - set(house_price_test.columns)\n",
    "    for col in missing_cols:\n",
    "        house_price_test[col] = 0  # Valor predeterminado para columnas faltantes\n",
    "    \n",
    "    # Asegurarse de que el orden de las columnas sea el mismo\n",
    "    house_price_test = house_price_test[X.columns]\n",
    "    \n",
    "    # Escalar los datos\n",
    "    house_price_test_scaled = scaler.transform(house_price_test)\n",
    "    \n",
    "    # Hacer predicciones\n",
    "    test_predictions = final_model.predict(house_price_test_scaled)\n",
    "    \n",
    "    # Crear el formato de envío\n",
    "    submission = pd.DataFrame({\n",
    "        'Id': house_price_test['Id'] if 'Id' in house_price_test.columns else range(1, len(test_predictions) + 1),\n",
    "        'SalePrice': test_predictions\n",
    "    })\n",
    "    \n",
    "    # Guardar el archivo de envío\n",
    "    submission.to_csv('submission.csv', index=False)\n",
    "    print(\"\\nArchivo de envío creado como 'submission.csv'\")\n",
    "    \n",
    "except Exception as e:\n",
    "    print(f\"\\nNo se pudieron generar predicciones para el conjunto de prueba: {e}\")\n",
    "    print(\"Nota: Para generar predicciones, asegúrate de que los datos de prueba estén preprocesados correctamente.\")"
   ],
   "metadata": {
    "collapsed": false,
    "ExecuteTime": {
     "end_time": "2025-04-11T00:41:20.848837100Z",
     "start_time": "2025-04-11T00:41:20.804029200Z"
    }
   },
   "id": "97f08da6be07babe",
   "execution_count": 31
  },
  {
   "cell_type": "code",
   "outputs": [],
   "source": [],
   "metadata": {
    "collapsed": false,
    "ExecuteTime": {
     "end_time": "2025-04-11T00:41:20.850846300Z",
     "start_time": "2025-04-11T00:41:20.828382900Z"
    }
   },
   "id": "433b4db3b9103e41",
   "execution_count": 31
  }
 ],
 "metadata": {
  "kernelspec": {
   "display_name": "Python 3",
   "language": "python",
   "name": "python3"
  },
  "language_info": {
   "codemirror_mode": {
    "name": "ipython",
    "version": 2
   },
   "file_extension": ".py",
   "mimetype": "text/x-python",
   "name": "python",
   "nbconvert_exporter": "python",
   "pygments_lexer": "ipython2",
   "version": "2.7.6"
  }
 },
 "nbformat": 4,
 "nbformat_minor": 5
}

{
 "cells": [
  {
   "cell_type": "code",
   "execution_count": 32,
   "id": "initial_id",
   "metadata": {
    "collapsed": true,
    "ExecuteTime": {
     "end_time": "2025-04-11T01:02:20.092531900Z",
     "start_time": "2025-04-11T01:02:20.080472200Z"
    }
   },
   "outputs": [],
   "source": [
    "import pandas as pd\n",
    "import numpy as np\n",
    "import matplotlib.pyplot as plt\n",
    "import seaborn as sns\n",
    "from sklearn.model_selection import train_test_split, cross_val_score, GridSearchCV\n",
    "from sklearn.linear_model import LinearRegression, Ridge, Lasso, ElasticNet\n",
    "from sklearn.ensemble import RandomForestRegressor, GradientBoostingRegressor\n",
    "from sklearn.metrics import mean_squared_error, r2_score\n",
    "from sklearn.preprocessing import StandardScaler\n",
    "import warnings"
   ]
  },
  {
   "cell_type": "code",
   "outputs": [
    {
     "data": {
      "text/plain": "   OverallQual  GrLivArea  GarageCars  GarageArea  TotalBsmtSF  1stFlrSF  \\\n0            7       1710           2         548          856       856   \n1            6       1262           2         460         1262      1262   \n2            7       1786           2         608          920       920   \n3            7       1717           3         642          756       961   \n4            8       2198           3         836         1145      1145   \n\n   FullBath  TotRmsAbvGrd  YearBuilt  YearRemodAdd  GarageFinish_Unf  \\\n0         2             8       2003          2003             False   \n1         2             6       1976          1976             False   \n2         2             6       2001          2002             False   \n3         1             7       1915          1970              True   \n4         2             9       2000          2000             False   \n\n   KitchenQual_TA  ExterQual_TA  SalePrice  \n0           False         False     208500  \n1            True          True     181500  \n2           False         False     223500  \n3           False          True     140000  \n4           False         False     250000  ",
      "text/html": "<div>\n<style scoped>\n    .dataframe tbody tr th:only-of-type {\n        vertical-align: middle;\n    }\n\n    .dataframe tbody tr th {\n        vertical-align: top;\n    }\n\n    .dataframe thead th {\n        text-align: right;\n    }\n</style>\n<table border=\"1\" class=\"dataframe\">\n  <thead>\n    <tr style=\"text-align: right;\">\n      <th></th>\n      <th>OverallQual</th>\n      <th>GrLivArea</th>\n      <th>GarageCars</th>\n      <th>GarageArea</th>\n      <th>TotalBsmtSF</th>\n      <th>1stFlrSF</th>\n      <th>FullBath</th>\n      <th>TotRmsAbvGrd</th>\n      <th>YearBuilt</th>\n      <th>YearRemodAdd</th>\n      <th>GarageFinish_Unf</th>\n      <th>KitchenQual_TA</th>\n      <th>ExterQual_TA</th>\n      <th>SalePrice</th>\n    </tr>\n  </thead>\n  <tbody>\n    <tr>\n      <th>0</th>\n      <td>7</td>\n      <td>1710</td>\n      <td>2</td>\n      <td>548</td>\n      <td>856</td>\n      <td>856</td>\n      <td>2</td>\n      <td>8</td>\n      <td>2003</td>\n      <td>2003</td>\n      <td>False</td>\n      <td>False</td>\n      <td>False</td>\n      <td>208500</td>\n    </tr>\n    <tr>\n      <th>1</th>\n      <td>6</td>\n      <td>1262</td>\n      <td>2</td>\n      <td>460</td>\n      <td>1262</td>\n      <td>1262</td>\n      <td>2</td>\n      <td>6</td>\n      <td>1976</td>\n      <td>1976</td>\n      <td>False</td>\n      <td>True</td>\n      <td>True</td>\n      <td>181500</td>\n    </tr>\n    <tr>\n      <th>2</th>\n      <td>7</td>\n      <td>1786</td>\n      <td>2</td>\n      <td>608</td>\n      <td>920</td>\n      <td>920</td>\n      <td>2</td>\n      <td>6</td>\n      <td>2001</td>\n      <td>2002</td>\n      <td>False</td>\n      <td>False</td>\n      <td>False</td>\n      <td>223500</td>\n    </tr>\n    <tr>\n      <th>3</th>\n      <td>7</td>\n      <td>1717</td>\n      <td>3</td>\n      <td>642</td>\n      <td>756</td>\n      <td>961</td>\n      <td>1</td>\n      <td>7</td>\n      <td>1915</td>\n      <td>1970</td>\n      <td>True</td>\n      <td>False</td>\n      <td>True</td>\n      <td>140000</td>\n    </tr>\n    <tr>\n      <th>4</th>\n      <td>8</td>\n      <td>2198</td>\n      <td>3</td>\n      <td>836</td>\n      <td>1145</td>\n      <td>1145</td>\n      <td>2</td>\n      <td>9</td>\n      <td>2000</td>\n      <td>2000</td>\n      <td>False</td>\n      <td>False</td>\n      <td>False</td>\n      <td>250000</td>\n    </tr>\n  </tbody>\n</table>\n</div>"
     },
     "execution_count": 33,
     "metadata": {},
     "output_type": "execute_result"
    }
   ],
   "source": [
    "house_price_train_final = pd.read_csv('Data/house_price_train_final.csv')\n",
    "house_price_train_final.head()"
   ],
   "metadata": {
    "collapsed": false,
    "ExecuteTime": {
     "end_time": "2025-04-11T01:02:20.154142100Z",
     "start_time": "2025-04-11T01:02:20.094950100Z"
    }
   },
   "id": "ef6b51b56b0aed83",
   "execution_count": 33
  },
  {
   "cell_type": "code",
   "outputs": [],
   "source": [
    "X = house_price_train_final.drop('SalePrice', axis=1)\n",
    "y = house_price_train_final['SalePrice']"
   ],
   "metadata": {
    "collapsed": false,
    "ExecuteTime": {
     "end_time": "2025-04-11T01:02:20.155319300Z",
     "start_time": "2025-04-11T01:02:20.114895400Z"
    }
   },
   "id": "ba57e68ec8b82d6c",
   "execution_count": 34
  },
  {
   "cell_type": "code",
   "outputs": [],
   "source": [
    "X_train, X_test, y_train, y_test = train_test_split(X, y, test_size=0.2, random_state=42)"
   ],
   "metadata": {
    "collapsed": false,
    "ExecuteTime": {
     "end_time": "2025-04-11T01:02:20.155319300Z",
     "start_time": "2025-04-11T01:02:20.120179700Z"
    }
   },
   "id": "e93fbe76f726a060",
   "execution_count": 35
  },
  {
   "cell_type": "code",
   "outputs": [],
   "source": [
    "scaler = StandardScaler()\n",
    "X_train_scaled = scaler.fit_transform(X_train)\n",
    "X_test_scaled = scaler.transform(X_test)"
   ],
   "metadata": {
    "collapsed": false,
    "ExecuteTime": {
     "end_time": "2025-04-11T01:02:20.156472800Z",
     "start_time": "2025-04-11T01:02:20.128522100Z"
    }
   },
   "id": "744304f12b0ec60b",
   "execution_count": 36
  },
  {
   "cell_type": "code",
   "outputs": [],
   "source": [
    "models = {\n",
    "    'Linear Regression': LinearRegression(),\n",
    "    'Ridge Regression': Ridge(random_state=42),\n",
    "    'Lasso Regression': Lasso(random_state=42),\n",
    "    'ElasticNet': ElasticNet(random_state=42),\n",
    "    'Random Forest': RandomForestRegressor(random_state=42),\n",
    "    'Gradient Boosting': GradientBoostingRegressor(random_state=42)\n",
    "}\n",
    "results = {}\n",
    "\n"
   ],
   "metadata": {
    "collapsed": false,
    "ExecuteTime": {
     "end_time": "2025-04-11T01:02:20.185480600Z",
     "start_time": "2025-04-11T01:02:20.158475600Z"
    }
   },
   "id": "1e56acd75e7684a5",
   "execution_count": 37
  },
  {
   "cell_type": "code",
   "outputs": [
    {
     "name": "stdout",
     "output_type": "stream",
     "text": [
      "Linear Regression: RMSE = 38317.09 (±7602.27)\n",
      "Ridge Regression: RMSE = 38308.38 (±7587.28)\n",
      "Lasso Regression: RMSE = 38316.89 (±7601.63)\n",
      "ElasticNet: RMSE = 38724.17 (±5982.53)\n",
      "Random Forest: RMSE = 33302.56 (±5795.84)\n",
      "Gradient Boosting: RMSE = 31890.55 (±5408.78)\n"
     ]
    }
   ],
   "source": [
    "# Evaluar cada modelo con validación cruzada\n",
    "for name, model in models.items():\n",
    "    cv_scores = cross_val_score(model, X_train_scaled, y_train, cv=5, scoring='neg_mean_squared_error')\n",
    "    rmse_scores = np.sqrt(-cv_scores)\n",
    "    results[name] = {\n",
    "        'RMSE CV': rmse_scores.mean(),\n",
    "        'RMSE Std': rmse_scores.std()\n",
    "    }\n",
    "    print(f\"{name}: RMSE = {rmse_scores.mean():.2f} (±{rmse_scores.std():.2f})\")\n"
   ],
   "metadata": {
    "collapsed": false,
    "ExecuteTime": {
     "end_time": "2025-04-11T01:02:24.247495500Z",
     "start_time": "2025-04-11T01:02:20.185569900Z"
    }
   },
   "id": "69a93f3e961d0ec6",
   "execution_count": 38
  },
  {
   "cell_type": "code",
   "outputs": [
    {
     "name": "stdout",
     "output_type": "stream",
     "text": [
      "\n",
      "El mejor modelo es: Gradient Boosting\n"
     ]
    }
   ],
   "source": [
    "\n",
    "# Encontrar el mejor modelo basado en RMSE\n",
    "best_model_name = min(results, key=lambda x: results[x]['RMSE CV'])\n",
    "print(f\"\\nEl mejor modelo es: {best_model_name}\")"
   ],
   "metadata": {
    "collapsed": false,
    "ExecuteTime": {
     "end_time": "2025-04-11T01:02:24.249771100Z",
     "start_time": "2025-04-11T01:02:24.245652500Z"
    }
   },
   "id": "17b883768900f695",
   "execution_count": 39
  },
  {
   "cell_type": "code",
   "outputs": [],
   "source": [
    "\n",
    "# Optimizar hiperparámetros del mejor modelo\n",
    "if best_model_name == 'Linear Regression':\n",
    "    best_model = LinearRegression()\n",
    "    param_grid = {}\n",
    "elif best_model_name == 'Ridge Regression':\n",
    "    best_model = Ridge(random_state=42)\n",
    "    param_grid = {'alpha': [0.01, 0.1, 1.0, 10.0, 100.0]}\n",
    "elif best_model_name == 'Lasso Regression':\n",
    "    best_model = Lasso(random_state=42)\n",
    "    param_grid = {'alpha': [0.0001, 0.001, 0.01, 0.1, 1.0]}\n",
    "elif best_model_name == 'ElasticNet':\n",
    "    best_model = ElasticNet(random_state=42)\n",
    "    param_grid = {\n",
    "        'alpha': [0.001, 0.01, 0.1, 1.0],\n",
    "        'l1_ratio': [0.1, 0.3, 0.5, 0.7, 0.9]\n",
    "    }\n",
    "elif best_model_name == 'Random Forest':\n",
    "    best_model = RandomForestRegressor(random_state=42)\n",
    "    param_grid = {\n",
    "        'n_estimators': [100, 200, 300],\n",
    "        'max_depth': [None, 10, 20, 30],\n",
    "        'min_samples_split': [2, 5, 10]\n",
    "    }\n",
    "else:  # Gradient Boosting\n",
    "    best_model = GradientBoostingRegressor(random_state=42)\n",
    "    param_grid = {\n",
    "        'n_estimators': [100, 200, 300],\n",
    "        'learning_rate': [0.01, 0.05, 0.1],\n",
    "        'max_depth': [3, 5, 7]\n",
    "    }"
   ],
   "metadata": {
    "collapsed": false,
    "ExecuteTime": {
     "end_time": "2025-04-11T01:02:24.261062400Z",
     "start_time": "2025-04-11T01:02:24.252123Z"
    }
   },
   "id": "cc8161f1ba08665c",
   "execution_count": 40
  },
  {
   "cell_type": "code",
   "outputs": [
    {
     "name": "stdout",
     "output_type": "stream",
     "text": [
      "\n",
      "Optimizando hiperparámetros para Gradient Boosting...\n",
      "Mejores parámetros: {'learning_rate': 0.1, 'max_depth': 3, 'n_estimators': 100}\n"
     ]
    }
   ],
   "source": [
    "\n",
    "# Realizar búsqueda de hiperparámetros si hay parámetros para optimizar\n",
    "if param_grid:\n",
    "    print(f\"\\nOptimizando hiperparámetros para {best_model_name}...\")\n",
    "    grid_search = GridSearchCV(best_model, param_grid, cv=5, scoring='neg_mean_squared_error', n_jobs=-1)\n",
    "    grid_search.fit(X_train_scaled, y_train)\n",
    "    best_params = grid_search.best_params_\n",
    "    print(f\"Mejores parámetros: {best_params}\")\n",
    "    final_model = grid_search.best_estimator_\n",
    "else:\n",
    "    print(f\"\\nEntrenando modelo final {best_model_name}...\")\n",
    "    best_model.fit(X_train_scaled, y_train)\n",
    "    final_model = best_model"
   ],
   "metadata": {
    "collapsed": false,
    "ExecuteTime": {
     "end_time": "2025-04-11T01:02:41.088754600Z",
     "start_time": "2025-04-11T01:02:24.261062400Z"
    }
   },
   "id": "29f08b482b7538f7",
   "execution_count": 41
  },
  {
   "cell_type": "code",
   "outputs": [
    {
     "name": "stdout",
     "output_type": "stream",
     "text": [
      "\n",
      "Resultados del modelo final (Gradient Boosting):\n",
      "RMSE: 29036.89\n",
      "R²: 0.8901\n"
     ]
    }
   ],
   "source": [
    "\n",
    "# Evaluar el modelo final\n",
    "y_pred = final_model.predict(X_test_scaled)\n",
    "rmse = np.sqrt(mean_squared_error(y_test, y_pred))\n",
    "r2 = r2_score(y_test, y_pred)\n",
    "\n",
    "print(f\"\\nResultados del modelo final ({best_model_name}):\")\n",
    "print(f\"RMSE: {rmse:.2f}\")\n",
    "print(f\"R²: {r2:.4f}\")\n"
   ],
   "metadata": {
    "collapsed": false,
    "ExecuteTime": {
     "end_time": "2025-04-11T01:02:41.095207900Z",
     "start_time": "2025-04-11T01:02:41.086418500Z"
    }
   },
   "id": "5f6a38d9c4755b77",
   "execution_count": 42
  },
  {
   "cell_type": "code",
   "outputs": [],
   "source": [
    "\n",
    "# Visualizar residuos\n",
    "residuos = y_test - y_pred\n",
    "plt.figure(figsize=(10, 6))\n",
    "plt.scatter(y_pred, residuos, alpha=0.5)\n",
    "plt.hlines(y=0, xmin=y_pred.min(), xmax=y_pred.max(), colors='r', linestyles='--')\n",
    "plt.xlabel('Predicciones')\n",
    "plt.ylabel('Residuos')\n",
    "plt.title('Residuos vs Predicciones')\n",
    "plt.savefig('residuos.png')\n",
    "plt.close()"
   ],
   "metadata": {
    "collapsed": false,
    "ExecuteTime": {
     "end_time": "2025-04-11T01:02:41.204075200Z",
     "start_time": "2025-04-11T01:02:41.096433600Z"
    }
   },
   "id": "b19539f0243937dc",
   "execution_count": 43
  },
  {
   "cell_type": "code",
   "outputs": [],
   "source": [
    "plt.figure(figsize=(10, 6))\n",
    "sns.histplot(residuos, kde=True)\n",
    "plt.xlabel('Residuos')\n",
    "plt.title('Distribución de residuos')\n",
    "plt.savefig('distribucion_residuos.png')\n",
    "plt.close()"
   ],
   "metadata": {
    "collapsed": false,
    "ExecuteTime": {
     "end_time": "2025-04-11T01:02:41.343413600Z",
     "start_time": "2025-04-11T01:02:41.221064400Z"
    }
   },
   "id": "7b3cccf037bc8c52",
   "execution_count": 44
  },
  {
   "cell_type": "code",
   "outputs": [
    {
     "name": "stdout",
     "output_type": "stream",
     "text": [
      "\n",
      "Características más importantes:\n",
      "             Feature  Importance\n",
      "0        OverallQual    0.548688\n",
      "1          GrLivArea    0.174629\n",
      "4        TotalBsmtSF    0.074331\n",
      "2         GarageCars    0.045252\n",
      "5           1stFlrSF    0.043900\n",
      "9       YearRemodAdd    0.032628\n",
      "8          YearBuilt    0.027084\n",
      "10  GarageFinish_Unf    0.019325\n",
      "3         GarageArea    0.013267\n",
      "6           FullBath    0.009936\n"
     ]
    }
   ],
   "source": [
    "\n",
    "# Si el mejor modelo permite análisis de importancia de características\n",
    "if best_model_name in ['Random Forest', 'Gradient Boosting']:\n",
    "    # Obtener importancia de características\n",
    "    feature_importance = pd.DataFrame({\n",
    "        'Feature': X.columns,\n",
    "        'Importance': final_model.feature_importances_\n",
    "    }).sort_values('Importance', ascending=False)\n",
    "    \n",
    "    # Visualizar las 15 características más importantes\n",
    "    plt.figure(figsize=(12, 8))\n",
    "    sns.barplot(x='Importance', y='Feature', data=feature_importance.head(15))\n",
    "    plt.title('15 características más importantes')\n",
    "    plt.tight_layout()\n",
    "    plt.savefig('feature_importance.png')\n",
    "    plt.close()\n",
    "    \n",
    "    print(\"\\nCaracterísticas más importantes:\")\n",
    "    print(feature_importance.head(10))"
   ],
   "metadata": {
    "collapsed": false,
    "ExecuteTime": {
     "end_time": "2025-04-11T01:02:41.533814900Z",
     "start_time": "2025-04-11T01:02:41.345690700Z"
    }
   },
   "id": "6937ca102dbe7bab",
   "execution_count": 45
  },
  {
   "cell_type": "code",
   "outputs": [
    {
     "name": "stdout",
     "output_type": "stream",
     "text": [
      "\n",
      "Archivo de envío creado como 'submission.csv'\n"
     ]
    }
   ],
   "source": [
    "\n",
    "# Cargar datos de prueba y hacer predicciones para enviar\n",
    "try:\n",
    "    # Cargar datos de prueba\n",
    "    house_price_test = pd.read_csv('Data/test.csv')\n",
    "    \n",
    "    # Procesar los datos de prueba de la misma manera que los datos de entrenamiento\n",
    "    \n",
    "    # Primero, maneja las columnas que se eliminaron durante el entrenamiento\n",
    "    cols_to_drop = ['Id'] + [col for col in house_price_test.columns if col not in X.columns and col != 'Id']\n",
    "    house_price_test_processed = house_price_test.drop(columns=cols_to_drop, errors='ignore')\n",
    "    \n",
    "    # Manejar valores faltantes en columnas numéricas\n",
    "    for col in house_price_test_processed.select_dtypes(include=['float64', 'int64']).columns:\n",
    "        if house_price_test_processed[col].isna().sum() > 0:\n",
    "            # Usar la mediana para imputar valores numéricos faltantes\n",
    "            house_price_test_processed[col] = house_price_test_processed[col].fillna(house_price_test_processed[col].median())\n",
    "    \n",
    "    # Manejar valores faltantes en columnas categóricas\n",
    "    for col in house_price_test_processed.select_dtypes(include=['object']).columns:\n",
    "        if house_price_test_processed[col].isna().sum() > 0:\n",
    "            # Usar el modo para imputar valores categóricos faltantes\n",
    "            house_price_test_processed[col] = house_price_test_processed[col].fillna(house_price_test_processed[col].mode()[0])\n",
    "    \n",
    "    # Codificar variables categóricas\n",
    "    house_price_test_encoded = pd.get_dummies(house_price_test_processed, drop_first=True)\n",
    "    \n",
    "    # Asegurar que el conjunto de prueba tenga las mismas columnas que el de entrenamiento\n",
    "    for col in X.columns:\n",
    "        if col not in house_price_test_encoded.columns:\n",
    "            house_price_test_encoded[col] = 0\n",
    "    \n",
    "    # Mantener solo las columnas utilizadas en el entrenamiento\n",
    "    house_price_test_final = house_price_test_encoded[X.columns]\n",
    "    \n",
    "    # Verificar que no hay valores NaN\n",
    "    assert not house_price_test_final.isna().any().any(), \"Aún hay valores NaN en los datos procesados\"\n",
    "    \n",
    "    # Escalar los datos\n",
    "    house_price_test_scaled = scaler.transform(house_price_test_final)\n",
    "    \n",
    "    # Hacer predicciones\n",
    "    test_predictions = final_model.predict(house_price_test_scaled)\n",
    "    \n",
    "    # Crear el formato de envío\n",
    "    submission = pd.DataFrame({\n",
    "        'Id': house_price_test['Id'],\n",
    "        'SalePrice': test_predictions\n",
    "    })\n",
    "    \n",
    "    # Guardar el archivo de envío\n",
    "    submission.to_csv('submission.csv', index=False)\n",
    "    print(\"\\nArchivo de envío creado como 'submission.csv'\")\n",
    "except Exception as e:\n",
    "    print(f\"\\nNo se pudieron generar predicciones para el conjunto de prueba: {e}\")\n",
    "    print(\"Nota: Para generar predicciones, asegúrate de que los datos de prueba estén preprocesados correctamente.\")"
   ],
   "metadata": {
    "collapsed": false,
    "ExecuteTime": {
     "end_time": "2025-04-11T01:15:08.948080100Z",
     "start_time": "2025-04-11T01:15:08.882268500Z"
    }
   },
   "id": "97f08da6be07babe",
   "execution_count": 48
  },
  {
   "cell_type": "code",
   "outputs": [
    {
     "data": {
      "text/plain": "<Figure size 1000x600 with 1 Axes>",
      "image/png": "[encoded data removed]"
     },
     "metadata": {},
     "output_type": "display_data"
    }
   ],
   "source": [
    "# analizar el rendimiento del modelo final\n",
    "# Comparar predicciones con valores reales\n",
    "plt.figure(figsize=(10, 6))\n",
    "plt.scatter(y_test, y_pred, alpha=0.5)\n",
    "plt.plot([y_test.min(), y_test.max()], [y_test.min(), y_test.max()], 'r--')\n",
    "plt.xlabel('Valores reales')\n",
    "plt.ylabel('Predicciones')\n",
    "plt.title('Predicciones vs Valores reales')\n",
    "plt.savefig('predicciones_vs_reales.png')\n",
    "plt.show()"
   ],
   "metadata": {
    "collapsed": false,
    "ExecuteTime": {
     "end_time": "2025-04-11T01:16:03.906688300Z",
     "start_time": "2025-04-11T01:16:03.261205Z"
    }
   },
   "id": "433b4db3b9103e41",
   "execution_count": 50
  },
  {
   "cell_type": "code",
   "outputs": [],
   "source": [],
   "metadata": {
    "collapsed": false
   },
   "id": "e80f0337a91c8e1"
  }
 ],
 "metadata": {
  "kernelspec": {
   "display_name": "Python 3",
   "language": "python",
   "name": "python3"
  },
  "language_info": {
   "codemirror_mode": {
    "name": "ipython",
    "version": 2
   },
   "file_extension": ".py",
   "mimetype": "text/x-python",
   "name": "python",
   "nbconvert_exporter": "python",
   "pygments_lexer": "ipython2",
   "version": "2.7.6"
  }
 },
 "nbformat": 4,
 "nbformat_minor": 5
}
